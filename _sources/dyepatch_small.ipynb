{
 "cells": [
  {
   "cell_type": "markdown",
   "id": "716347fe-1314-4139-9a98-49379248ba0a",
   "metadata": {},
   "source": [
    "## Adding 8 dyes to initial conditions\n",
    "\n",
    "This notebook adds 8 distinct dyes to an initial ROMS file for a physics only domain"
   ]
  },
  {
   "cell_type": "code",
   "execution_count": 19,
   "id": "09d76f14-1fd1-4a53-a725-cc06eb4f3d32",
   "metadata": {},
   "outputs": [],
   "source": [
    "import subprocess\n",
    "import os\n",
    "\n",
    "import netCDF4\n",
    "import numpy as np\n",
    "import glob\n",
    "import time\n",
    "import matplotlib.pyplot as plt\n",
    "import copy\n",
    "import xarray as xr\n",
    "from datetime import datetime, timedelta \n",
    "from ocean_c_lab_tools import *"
   ]
  },
  {
   "cell_type": "code",
   "execution_count": 20,
   "id": "04ffda17-28f9-464e-8735-e4193c05dcae",
   "metadata": {},
   "outputs": [],
   "source": [
    "## calculating depth of each cell\n",
    "grid=xr.open_mfdataset('/expanse/lustre/projects/cos100/uheede/Iceland4_grd.nc')\n",
    "h=grid['h'].values\n",
    "\n",
    "mask_rho=grid['mask_rho'].values\n",
    "\n",
    "# zeta is the sea surface height at any given time, here I am using zeta from the initial file\n",
    "\n",
    "x=xr.open_dataset('/expanse/lustre/projects/cos100/uheede/C-Star/setup_tools/Iceland4_dye_newpatch/Iceland4_ini.nc')\n",
    "zeta=x['zeta'].mean('time').values\n",
    "t=x['temp'].values\n",
    "\n"
   ]
  },
  {
   "cell_type": "code",
   "execution_count": 21,
   "id": "76c7fbed-a45e-43eb-85ad-56659b60bc7f",
   "metadata": {},
   "outputs": [],
   "source": [
    "x=xr.open_dataset('/expanse/lustre/projects/cos100/uheede/C-Star/setup_tools/Iceland4_dye_newpatch/Iceland4_ini.nc')"
   ]
  },
  {
   "cell_type": "markdown",
   "id": "9c9b4b6f-fdb8-46b0-8c2c-8127b1814509",
   "metadata": {},
   "source": [
    "## Defining radius, amplitude and location\n",
    "We define the location in roms coordinates, set the amplitude of the centre, and set the radius of each patch"
   ]
  },
  {
   "cell_type": "code",
   "execution_count": 22,
   "id": "03a6ffd2-53f9-4a41-a7c5-9562f780eb5b",
   "metadata": {},
   "outputs": [],
   "source": [
    "radius = 4;\n",
    "amplitude = 1;\n",
    "center1 = [1200, 560];\n",
    "center2 = [1240, 615];\n",
    "center3 = [1025, 575];\n",
    "center4 = [1025, 610];\n",
    "center5 = [1025, 640];\n",
    "center6 = [820, 490];\n",
    "center7 = [730, 410];\n",
    "center8 = [600, 310];\n",
    "\n",
    "\n",
    "dye1=np.empty_like(t)*0\n",
    "dye2=np.empty_like(t)*0\n",
    "dye3=np.empty_like(t)*0\n",
    "dye4=np.empty_like(t)*0\n",
    "dye5=np.empty_like(t)*0\n",
    "dye6=np.empty_like(t)*0\n",
    "dye7=np.empty_like(t)*0\n",
    "dye8=np.empty_like(t)*0\n",
    "\n",
    "dye1[:,99,center1[1],center1[0]]=amplitude\n",
    "dye2[:,99,center2[1],center2[0]]=amplitude\n",
    "dye3[:,99,center3[1],center3[0]]=amplitude\n",
    "dye4[:,99,center4[1],center4[0]]=amplitude\n",
    "dye5[:,99,center5[1],center5[0]]=amplitude\n",
    "dye6[:,99,center6[1],center6[0]]=amplitude\n",
    "dye7[:,99,center7[1],center7[0]]=amplitude\n",
    "dye8[:,99,center8[1],center8[0]]=amplitude"
   ]
  },
  {
   "cell_type": "markdown",
   "id": "0df07a80-b70b-4e4b-bc89-696a80e1f29f",
   "metadata": {},
   "source": [
    "We then go through a loop to make each patch"
   ]
  },
  {
   "cell_type": "code",
   "execution_count": 23,
   "id": "35f988cc-563a-467c-bd32-76278f7959aa",
   "metadata": {},
   "outputs": [],
   "source": [
    "for i in np.arange((center1[0] - radius),(center1[0] + radius)):\n",
    "    for j in np.arange((center1[1] - radius),(center1[1] + radius)):\n",
    "        distance=(((i-center1[0])**2)+((j-center1[1])**2))**(1/2)\n",
    "        dye1[:,:,j,i]=dye1[:,:,center1[1],center1[0]]*0.5**distance\n",
    "        if np.max(dye1[:,:,j,i])<1/128:\n",
    "            dye1[:,:,j,i]=0\n",
    "        \n",
    "for k in np.arange(0,100):\n",
    "    dye1[:,k,:,:]=dye1[:,99,:,:]*0.7**(99-k)\n",
    "#    if np.max(dye1[:,k,:,:])<1/128:\n",
    "#        dye1[:,k,:,:]=0\n",
    "\n",
    "for i in np.arange((center2[0] - radius),(center2[0] + radius)):\n",
    "    for j in np.arange((center2[1] - radius),(center2[1] + radius)):\n",
    "        distance=(((i-center2[0])**2)+((j-center2[1])**2))**(1/2)\n",
    "        dye2[:,:,j,i]=dye2[:,:,center2[1],center2[0]]*0.5**distance\n",
    "        if np.max(dye2[:,:,j,i])<1/128:\n",
    "            dye2[:,:,j,i]=0\n",
    "        \n",
    "for k in np.arange(0,100):\n",
    "    dye2[:,k,:,:]=dye2[:,99,:,:]*0.7**(99-k)\n",
    "#    if np.max(dye2[:,k,:,:])<1/128:\n",
    "#        dye2[:,k,:,:]=0\n",
    "\n",
    "for i in np.arange((center3[0] - radius),(center3[0] + radius)):\n",
    "    for j in np.arange((center3[1] - radius),(center3[1] + radius)):\n",
    "        distance=(((i-center3[0])**2)+((j-center3[1])**2))**(1/2)\n",
    "        dye3[:,:,j,i]=dye3[:,:,center3[1],center3[0]]*0.5**distance\n",
    "        if np.max(dye3[:,:,j,i])<1/64:\n",
    "            dye3[:,:,j,i]=0\n",
    "        \n",
    "for k in np.arange(0,100):\n",
    "    dye3[:,k,:,:]=dye3[:,99,:,:]*0.7**(99-k)\n",
    "#    if np.max(dye3[:,k,:,:])<1/32:\n",
    "#        dye3[:,k,:,:]=0\n",
    "\n",
    "for i in np.arange((center4[0] - radius),(center4[0] + radius)):\n",
    "    for j in np.arange((center4[1] - radius),(center4[1] + radius)):\n",
    "        distance=(((i-center4[0])**2)+((j-center4[1])**2))**(1/2)\n",
    "        dye4[:,:,j,i]=dye4[:,:,center4[1],center4[0]]*0.5**distance\n",
    "        if np.max(dye4[:,:,j,i])<1/64:\n",
    "            dye4[:,:,j,i]=0\n",
    "        \n",
    "for k in np.arange(0,100):\n",
    "    dye4[:,k,:,:]=dye4[:,99,:,:]*0.7**(99-k)\n",
    "#    if np.max(dye4[:,k,:,:])<1/128:\n",
    "#        dye4[:,k,:,:]=0\n",
    "\n",
    "for i in np.arange((center5[0] - radius),(center5[0] + radius)):\n",
    "    for j in np.arange((center5[1] - radius),(center5[1] + radius)):\n",
    "        distance=(((i-center5[0])**2)+((j-center5[1])**2))**(1/2)\n",
    "        dye5[:,:,j,i]=dye5[:,:,center5[1],center5[0]]*0.5**distance\n",
    "        if np.max(dye5[:,:,j,i])<1/64:\n",
    "            dye5[:,:,j,i]=0\n",
    "        \n",
    "for k in np.arange(0,100):\n",
    "    dye5[:,k,:,:]=dye5[:,99,:,:]*0.7**(99-k)\n",
    "#    if np.max(dye5[:,k,:,:])<1/128:\n",
    "#        dye5[:,k,:,:]=0\n",
    "\n",
    "for i in np.arange((center6[0] - radius),(center6[0] + radius)):\n",
    "    for j in np.arange((center6[1] - radius),(center6[1] + radius)):\n",
    "        distance=(((i-center6[0])**2)+((j-center6[1])**2))**(1/2)\n",
    "        dye6[:,:,j,i]=dye6[:,:,center6[1],center6[0]]*0.5**distance\n",
    "        if np.max(dye6[:,:,j,i])<1/64:\n",
    "            dye6[:,:,j,i]=0\n",
    "        \n",
    "for k in np.arange(0,100):\n",
    "    dye6[:,k,:,:]=dye6[:,99,:,:]*0.7**(99-k)\n",
    "#    if np.max(dye6[:,k,:,:])<1/32:\n",
    "#        dye6[:,k,:,:]=0\n",
    "\n",
    "for i in np.arange((center7[0] - radius),(center7[0] + radius)):\n",
    "    for j in np.arange((center7[1] - radius),(center7[1] + radius)):\n",
    "        distance=(((i-center7[0])**2)+((j-center7[1])**2))**(1/2)\n",
    "        dye7[:,:,j,i]=dye7[:,:,center7[1],center7[0]]*0.5**distance\n",
    "        if np.max(dye7[:,:,j,i])<1/64:\n",
    "            dye7[:,:,j,i]=0\n",
    "        \n",
    "for k in np.arange(0,100):\n",
    "    dye7[:,k,:,:]=dye7[:,99,:,:]*0.7**(99-k)\n",
    "#    if np.max(dye7[:,k,:,:])<1/128:\n",
    "#        dye7[:,k,:,:]=0\n",
    "\n",
    "for i in np.arange((center8[0] - radius),(center8[0] + radius)):\n",
    "    for j in np.arange((center8[1] - radius),(center8[1] + radius)):\n",
    "        distance=(((i-center8[0])**2)+((j-center8[1])**2))**(1/2)\n",
    "        dye8[:,:,j,i]=dye8[:,:,center8[1],center8[0]]*0.5**distance\n",
    "        if np.max(dye8[:,:,j,i])<1/64:\n",
    "            dye8[:,:,j,i]=0\n",
    "        \n",
    "for k in np.arange(0,100):\n",
    "    dye8[:,k,:,:]=dye8[:,99,:,:]*0.7**(99-k)\n",
    "#    if np.max(dye8[:,k,:,:])<1/128:\n",
    "#        dye8[:,k,:,:]=0\n"
   ]
  },
  {
   "cell_type": "code",
   "execution_count": 24,
   "id": "16196d15-6384-4a89-877d-585c31133ab2",
   "metadata": {},
   "outputs": [],
   "source": [
    "x['dye1']=(('time', 's_rho','eta_rho','xi_rho'), dye1)\n",
    "x['dye2']=(('time', 's_rho','eta_rho','xi_rho'), dye2)\n",
    "x['dye3']=(('time', 's_rho','eta_rho','xi_rho'), dye3)\n",
    "x['dye4']=(('time', 's_rho','eta_rho','xi_rho'), dye4)\n",
    "x['dye5']=(('time', 's_rho','eta_rho','xi_rho'), dye5)\n",
    "x['dye6']=(('time', 's_rho','eta_rho','xi_rho'), dye6)\n",
    "x['dye7']=(('time', 's_rho','eta_rho','xi_rho'), dye7)\n",
    "x['dye8']=(('time', 's_rho','eta_rho','xi_rho'), dye8)"
   ]
  },
  {
   "cell_type": "markdown",
   "id": "499d6def-1f8e-4a76-bd0d-bc117100d7b3",
   "metadata": {},
   "source": [
    "## Plotting the patches"
   ]
  },
  {
   "cell_type": "code",
   "execution_count": 34,
   "id": "db88d576-b479-4be7-b17b-1ed07a020403",
   "metadata": {},
   "outputs": [
    {
     "data": {
      "text/plain": [
       "<matplotlib.colorbar.Colorbar at 0x1554d594cbb0>"
      ]
     },
     "execution_count": 34,
     "metadata": {},
     "output_type": "execute_result"
    },
    {
     "data": {
      "image/png": "[encoded data removed]",
      "text/plain": [
       "<Figure size 640x480 with 2 Axes>"
      ]
     },
     "metadata": {},
     "output_type": "display_data"
    }
   ],
   "source": [
    "plt.contourf(x['dye1'].where(dye1>0).isel(time=0).isel(s_rho=99))\n",
    "plt.contourf(x['dye2'].where(dye2>0).isel(time=0).isel(s_rho=99))\n",
    "plt.contourf(x['dye3'].where(dye3>0).isel(time=0).isel(s_rho=99))\n",
    "plt.contourf(x['dye4'].where(dye4>0).isel(time=0).isel(s_rho=99))\n",
    "plt.contourf(x['dye5'].where(dye5>0).isel(time=0).isel(s_rho=99))\n",
    "plt.contourf(x['dye6'].where(dye6>0).isel(time=0).isel(s_rho=99))\n",
    "plt.contourf(x['dye7'].where(dye7>0).isel(time=0).isel(s_rho=99))\n",
    "plt.contourf(x['dye8'].where(dye8>0).isel(time=0).isel(s_rho=99))\n",
    "\n",
    "mask_rho=grid['mask_rho']\n",
    "plt.contourf(mask_rho.where(mask_rho!=1),cmap='Greys')\n",
    "#plt.xlim([1230,1270])\n",
    "#plt.ylim([600,640])\n",
    "plt.colorbar()"
   ]
  },
  {
   "cell_type": "code",
   "execution_count": 27,
   "id": "07dd3b8d-5b87-4359-83fe-ad82b4a8122b",
   "metadata": {},
   "outputs": [],
   "source": [
    "x.to_netcdf('/expanse/lustre/projects/cos100/uheede/C-Star/setup_tools/Iceland4_dye_newpatch/Iceland4_zerodye.nc')"
   ]
  }
 ],
 "metadata": {
  "kernelspec": {
   "display_name": "Python 3 (ipykernel)",
   "language": "python",
   "name": "python3"
  },
  "language_info": {
   "codemirror_mode": {
    "name": "ipython",
    "version": 3
   },
   "file_extension": ".py",
   "mimetype": "text/x-python",
   "name": "python",
   "nbconvert_exporter": "python",
   "pygments_lexer": "ipython3",
   "version": "3.10.13"
  }
 },
 "nbformat": 4,
 "nbformat_minor": 5
}
