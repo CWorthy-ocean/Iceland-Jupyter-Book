{
 "cells": [
  {
   "cell_type": "markdown",
   "id": "b7ae8ea0-29bd-4c6e-9ec7-e02c78739071",
   "metadata": {},
   "source": [
    "# Overview of available surface observations\n",
    "\n",
    "This notebook provides an overview of different surface observations available.\n",
    "OBS: so far only using Grundartangi data"
   ]
  },
  {
   "cell_type": "code",
   "execution_count": 2,
   "id": "3f9af44e-74b9-4c32-b595-67c8a33f5c65",
   "metadata": {},
   "outputs": [],
   "source": [
    "import subprocess\n",
    "import os\n",
    "import pandas as pd\n",
    "import netCDF4\n",
    "import numpy as np\n",
    "import glob\n",
    "import time\n",
    "import matplotlib.pyplot as plt\n",
    "import copy\n",
    "import xarray as xr\n",
    "from datetime import datetime, timedelta \n",
    "from ocean_c_lab_tools import *\n",
    "from celluloid import Camera \n",
    "import PyCO2SYS as csys\n",
    "import seawater as sw\n",
    "from roms_regrid import *"
   ]
  },
  {
   "cell_type": "code",
   "execution_count": 3,
   "id": "9356c649-c90d-4746-b025-f8b993d372c5",
   "metadata": {},
   "outputs": [],
   "source": [
    "f='/expanse/lustre/projects/cos100/uheede/Iceland_observations/Grundartangi_01062012-30072012.xls'\n",
    "grundartangi = pd.read_excel(f,decimal=',')"
   ]
  },
  {
   "cell_type": "code",
   "execution_count": null,
   "id": "a960d218-82a4-4360-96e6-9c905856f4f5",
   "metadata": {},
   "outputs": [],
   "source": [
    "from windrose import WindroseAxes\n",
    "ax = WindroseAxes.from_ax()\n",
    "ax.bar(grundartangi['Vindatt (deg)'], grundartangi['Vindur (m/s)'], normed=True, opening=0.8, edgecolor='white')\n",
    "ax.set_legend()\n",
    "ax.set_title('wind rose for summer winds 2012')"
   ]
  },
  {
   "cell_type": "code",
   "execution_count": null,
   "id": "3f3927e3-be7a-4161-b801-38ff25227fc4",
   "metadata": {},
   "outputs": [],
   "source": [
    "palette = plt.get_cmap('tab20')\n",
    "plt.plot(grundartangi[' Flodatafla (m)'],color=palette(1))\n",
    "plt.title('surface water anomalies (m)')\n",
    "plt.ylabel('m')\n",
    "plt.xlabel('time')\n"
   ]
  },
  {
   "cell_type": "code",
   "execution_count": null,
   "id": "3772d5c9-5ae8-4a33-a958-af0bdb8540c6",
   "metadata": {},
   "outputs": [],
   "source": [
    "plt.plot(grundartangi['Lofthiti (degC)'],color=palette(7))\n",
    "plt.title('air temperature ')\n",
    "plt.ylabel('degC')\n",
    "plt.xlabel('time')"
   ]
  }
 ],
 "metadata": {
  "kernelspec": {
   "display_name": "Python 3 (ipykernel)",
   "language": "python",
   "name": "python3"
  },
  "language_info": {
   "codemirror_mode": {
    "name": "ipython",
    "version": 3
   },
   "file_extension": ".py",
   "mimetype": "text/x-python",
   "name": "python",
   "nbconvert_exporter": "python",
   "pygments_lexer": "ipython3",
   "version": "3.10.13"
  }
 },
 "nbformat": 4,
 "nbformat_minor": 5
}
