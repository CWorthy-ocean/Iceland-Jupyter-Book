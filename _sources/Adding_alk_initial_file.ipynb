{
 "cells": [
  {
   "cell_type": "markdown",
   "id": "81dde169-1cd8-4bc2-9800-d29e3f5849c1",
   "metadata": {},
   "source": [
    "# Adding alkalinity to a ROMS initial file\n"
   ]
  },
  {
   "cell_type": "code",
   "execution_count": 1,
   "id": "73e3a493-f386-4f9c-ba9a-4e0a62ce2613",
   "metadata": {},
   "outputs": [],
   "source": [
    "import subprocess\n",
    "import os\n",
    "\n",
    "import netCDF4\n",
    "import numpy as np\n",
    "import glob\n",
    "import time\n",
    "import matplotlib.pyplot as plt\n",
    "import copy\n",
    "import xarray as xr\n",
    "from datetime import datetime, timedelta \n",
    "from ocean_c_lab_tools import *\n",
    "from roms_regrid import *"
   ]
  },
  {
   "cell_type": "code",
   "execution_count": 3,
   "id": "2db8028b-ffec-4f71-a828-16d55470e942",
   "metadata": {},
   "outputs": [
    {
     "data": {
      "text/plain": [
       "''"
      ]
     },
     "execution_count": 3,
     "metadata": {},
     "output_type": "execute_result"
    }
   ],
   "source": [
    "# import the initial file, x, and the grid\n",
    "\n",
    "x=xr.open_dataset('/expanse/lustre/projects/cos100/uheede/roms/run/Iceland4_BGC_copy/Iceland4_BGC_rst.20120622140000.nc')\n",
    "zeta=x['zeta'].mean('time').values\n",
    "t=x['temp'].values\n",
    "\n",
    "grid=xr.open_mfdataset('/expanse/lustre/projects/cos100/uheede/Iceland4_grd.nc')\n",
    "h=grid['h'].values\n",
    "\n",
    "pm=grid['pm'].values\n",
    "pn=grid['pn'].values\n",
    "mask_rho=grid['mask_rho'].values\n",
    ";"
   ]
  },
  {
   "cell_type": "code",
   "execution_count": 4,
   "id": "cbee7ca8-d686-4b07-bb40-05454cc4294f",
   "metadata": {},
   "outputs": [],
   "source": [
    "#Define the location of the dye (line or center), it's radius, it's amplitude, tapering and cutt-off threshold.\n",
    "\n",
    "amplitude = 1;\n",
    "radius = 4;\n",
    "cut=(1/128)\n",
    "taper_hor=0.5\n",
    "taper_vert=0.7\n",
    "width=4\n",
    "#length\n",
    "line_outer = [1120];\n",
    "line_inner = [1200];\n",
    "\n",
    "line_down = 590;\n",
    "line_up = 610;\n",
    "#center4 = [1025, 610];\n",
    "\n",
    "# Make empty variables for each dye\n",
    "dye1=np.empty_like(t)*0\n",
    "\n",
    "\n",
    "#set the initial amplitude\n",
    "\n",
    "dye1[:,:,line_down:line_up,line_outer[0]-width:line_outer[0]+width]=amplitude\n",
    "\n",
    "\n",
    "    #if np.max(dye1[:,:,j,:])<1/128:\n",
    "     #   dye1[:,:,j,:]=0  \n",
    "for i in np.arange((line_outer[0] - width-radius),(line_outer[0] - width)):\n",
    "    distance=((i-(line_outer[0] - width))**2)**(1/2)\n",
    "    dye1[:,:,:,i]=dye1[:,:,:,line_outer[0]]*0.5**distance\n",
    "    #if np.max(dye1[:,:,:,i])<1/128:\n",
    "       # dye1[:,:,:,i]=0\n",
    "    \n",
    "\n",
    "   # if np.max(dye1[:,:,j,:])<1/128:\n",
    "     #   dye1[:,:,j,:]=0  \n",
    "\n",
    "\n",
    "for i in np.arange((line_outer[0] + width),(line_outer[0] + width + radius)):\n",
    "    distance=((i-(line_outer[0]+width))**2)**(1/2)\n",
    "    dye1[:,:,:,i]=dye1[:,:,:,line_outer[0]]*0.5**distance\n",
    "   # if np.max(dye1[:,:,:,i])<1/128:\n",
    "      #  dye1[:,:,:,i]=0    \n",
    "\n",
    "for i in np.arange((line_outer[0] - width),(line_outer[0] + width+1)):\n",
    "    \n",
    "    for j in np.arange((line_up),(line_up+radius)):\n",
    "        distance=((j-(line_up))**2)**(1/2)\n",
    "        dye1[:,:,j,i]=amplitude*0.5**distance\n",
    "        \n",
    "    for j in np.arange((line_down - radius),(line_down)):\n",
    "        distance=((j-(line_down))**2)**(1/2)\n",
    "        dye1[:,:,j,i]=amplitude*0.5**distance\n",
    "\n",
    "for k in np.arange(0,100):\n",
    "    dye1[:,k,:,:]=dye1[:,99,:,:]*0.7**abs((k-99))\n"
   ]
  },
  {
   "cell_type": "code",
   "execution_count": 5,
   "id": "da2ca9db-a427-4791-9049-645774f64c0b",
   "metadata": {},
   "outputs": [],
   "source": [
    "# scale to number of IBCs\n",
    "\n",
    "## calculating depth of each cell\n",
    "\n",
    "# Sigma coordinate parameters\n",
    "N = 100\n",
    "theta_s = 5\n",
    "theta_b = 2\n",
    "hc = 300\n",
    "\n",
    "k_w = np.linspace(0,N,N+1)\n",
    "k_r = np.linspace(1,N,N)\n",
    "\n",
    "sigma_w = (k_w - N) / N\n",
    "sigma_r = (k_r - N - 0.5) / N\n",
    "\n",
    "# Assuming that theta_s and theta_b are both > 0\n",
    "# https://www.myroms.org/wiki/Vertical_S-coordinate\n",
    "\n",
    "def Cs(sigma, theta_s, theta_b):\n",
    "    C = ( 1 - np.cosh(theta_s * sigma) ) / (np.cosh(theta_s) - 1)\n",
    "    C = (np.exp(theta_b * C) - 1) / (1 - np.exp(-theta_b))\n",
    "    return C\n",
    "\n",
    "Cs_w = Cs(sigma_w, theta_s, theta_b)\n",
    "Cs_r = Cs(sigma_r, theta_s, theta_b)\n",
    "\n",
    "S_w = np.zeros((N+1, h.shape[0], h.shape[1]))\n",
    "S_r = np.zeros((N, h.shape[0], h.shape[1]))\n",
    "for i in range(h.shape[0]):\n",
    "    for j in range(h.shape[1]):\n",
    "        if mask_rho[i,j]:\n",
    "            S_w[:,i,j] = (hc * sigma_w + h[i,j]*Cs_w) / (hc + h[i,j])\n",
    "            S_r[:,i,j] = (hc * sigma_r + h[i,j]*Cs_r) / (hc + h[i,j])\n",
    "\n",
    "# zeta is the sea surface height at any given time, here I am using an arbitrary zeta\n",
    "\n",
    "file=xr.open_dataset('/expanse/lustre/projects/cos100/uheede/roms/run/Iceland4_BGC_copy/Iceland4_BGC_rst.20120622140000.nc')\n",
    "zeta=x['zeta'].mean('time').values\n",
    "\n",
    "z_w = np.zeros((N+1, h.shape[0], h.shape[1]))\n",
    "z_r = np.zeros((N, h.shape[0], h.shape[1]))\n",
    "\n",
    "for i in range(h.shape[0]):\n",
    "    for j in range(h.shape[1]):\n",
    "        if mask_rho[i,j]:\n",
    "            z_w[:,i,j] = zeta[i,j] + (zeta[i,j] + h[i,j])*S_w[:,i,j]\n",
    "            z_r[:,i,j] = zeta[i,j] + (zeta[i,j] + h[i,j])*S_r[:,i,j]\n",
    "\n",
    "cell_depths = np.zeros((N, h.shape[0], h.shape[1]))\n",
    "\n",
    "for x in np.arange(1,101):\n",
    "    cell_depths[x-1,:,:]=z_w[x,:,:]-z_w[x-1,:,:]\n",
    "    "
   ]
  },
  {
   "cell_type": "code",
   "execution_count": 6,
   "id": "b60fc3ba-c20a-4d13-9150-89875e8801ae",
   "metadata": {},
   "outputs": [],
   "source": [
    "\n",
    "mass=dye1*1/pn*1/pm*cell_depths\n",
    "\n",
    "total=np.sum(mass)\n",
    "\n",
    "\n",
    "NaOH_test=7.5*10**3*1400*4\n",
    "\n",
    "\n",
    "alk_scalar=NaOH_test*(1/total)\n",
    "#(1/total) #moles/moles\n",
    "alk_add=dye1*alk_scalar"
   ]
  },
  {
   "cell_type": "code",
   "execution_count": 10,
   "id": "329fe921-257a-48ac-b87e-3a24b68df869",
   "metadata": {},
   "outputs": [
    {
     "data": {
      "text/plain": [
       "108.10444718440563"
      ]
     },
     "execution_count": 10,
     "metadata": {},
     "output_type": "execute_result"
    }
   ],
   "source": [
    "alk_scalar"
   ]
  },
  {
   "cell_type": "code",
   "execution_count": 19,
   "id": "8e2351d0-be5f-49fa-be00-b61dbc8b9ae8",
   "metadata": {},
   "outputs": [
    {
     "data": {
      "text/plain": [
       "<matplotlib.contour.QuadContourSet at 0x1554dd65ec20>"
      ]
     },
     "execution_count": 19,
     "metadata": {},
     "output_type": "execute_result"
    },
    {
     "data": {
      "image/png": "[encoded data removed]",
      "text/plain": [
       "<Figure size 640x480 with 1 Axes>"
      ]
     },
     "metadata": {},
     "output_type": "display_data"
    }
   ],
   "source": [
    "x=xr.open_dataset('/expanse/lustre/projects/cos100/uheede/roms/run/Iceland4_BGC_copy/Iceland4_BGC_rst.20120622140000.nc')\n",
    "\n",
    "plt.contourf(dye1[0,99,:,:])\n",
    "plt.contourf(grid['mask_rho'].where(grid['mask_rho']<1))\n",
    "#plt.xlim(975,1025)\n",
    "#plt.ylim(500,700)"
   ]
  },
  {
   "cell_type": "code",
   "execution_count": 20,
   "id": "cef877fa-839f-4075-ac1e-8694e05522b7",
   "metadata": {},
   "outputs": [],
   "source": [
    "\n",
    "file['Alk']=file['Alk']+alk_add\n",
    "\n",
    "\n",
    "\n",
    "#file['Alk']=(('time', 's_rho','eta_rho','xi_rho'),alk_new)\n",
    "\n",
    "\n"
   ]
  },
  {
   "cell_type": "code",
   "execution_count": null,
   "id": "df573cc1-9b7d-4a57-86be-f6e06fce70c2",
   "metadata": {},
   "outputs": [],
   "source": [
    "file.to_netcdf('/expanse/lustre/projects/cos100/uheede/Iceland4_alk_addition.nc')"
   ]
  },
  {
   "cell_type": "code",
   "execution_count": null,
   "id": "8f496053-6bc8-4224-a0bd-8a7c8c36ca06",
   "metadata": {},
   "outputs": [],
   "source": []
  }
 ],
 "metadata": {
  "kernelspec": {
   "display_name": "Python 3 (ipykernel)",
   "language": "python",
   "name": "python3"
  },
  "language_info": {
   "codemirror_mode": {
    "name": "ipython",
    "version": 3
   },
   "file_extension": ".py",
   "mimetype": "text/x-python",
   "name": "python",
   "nbconvert_exporter": "python",
   "pygments_lexer": "ipython3",
   "version": "3.10.13"
  }
 },
 "nbformat": 4,
 "nbformat_minor": 5
}
